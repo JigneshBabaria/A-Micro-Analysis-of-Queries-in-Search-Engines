{
 "cells": [
  {
   "cell_type": "code",
   "execution_count": 1,
   "id": "b6cf0f09",
   "metadata": {},
   "outputs": [
    {
     "name": "stdout",
     "output_type": "stream",
     "text": [
      "/?FORM=Z9FD1\n",
      "javascript:void(0);\n",
      "javascript:void(0);\n",
      "javascript:void(0);\n",
      "javascript:void(0)\n",
      "/rewards/dashboard\n",
      "javascript:void(0);\n",
      "javascript:void(0);\n",
      "/search?q=programming&setlang=hi&sid=04D4E3717DD264F7393DF1207C0065C4\n",
      "/search?q=programming&setlang=bn&sid=04D4E3717DD264F7393DF1207C0065C4\n",
      "/search?q=programming&setlang=ur&sid=04D4E3717DD264F7393DF1207C0065C4\n",
      "/search?q=programming&setlang=pa-guru&sid=04D4E3717DD264F7393DF1207C0065C4\n",
      "/search?q=programming&setlang=mr&sid=04D4E3717DD264F7393DF1207C0065C4\n",
      "/search?q=programming&setlang=te&sid=04D4E3717DD264F7393DF1207C0065C4\n",
      "/search?q=programming&setlang=ta&sid=04D4E3717DD264F7393DF1207C0065C4\n",
      "/search?q=programming&setlang=kn&sid=04D4E3717DD264F7393DF1207C0065C4\n",
      "/search?q=programming&setlang=gu&sid=04D4E3717DD264F7393DF1207C0065C4\n",
      "/search?q=programming&setlang=ml&sid=04D4E3717DD264F7393DF1207C0065C4\n",
      "/search?q=programming&setlang=or&sid=04D4E3717DD264F7393DF1207C0065C4\n",
      "/?scope=web&FORM=HDRSC1\n",
      "/images/search?q=programming&FORM=HDRSC2\n",
      "/videos/search?q=programming&FORM=HDRSC3\n",
      "/maps?q=programming&FORM=HDRSC4\n",
      "/news/search?q=programming&FORM=HDRSC6\n",
      "/shop?q=programming&FORM=SHOPTB\n",
      "javascript:void(0);\n",
      "/travel/search?q=programming&m=flights&FORM=FBSCOP\n",
      "/travel/search?q=programming&m=travel&FORM=THSCOP\n",
      "https://www.bing.com/ck/a?!&&p=cca4099ed5b6e371JmltdHM9MTY2NzQzMzYwMCZpZ3VpZD0yNDAxMGI4OC01OTQ5LTYwNmEtMDY0Mi0xOWQ5NTg5YjYxYWEmaW5zaWQ9NTEyNA&ptn=3&hsh=3&fclid=24010b88-5949-606a-0642-19d9589b61aa&u=a1aHR0cHM6Ly9oYWNrci5pby9ibG9nL3doYXQtaXMtcHJvZ3JhbW1pbmc&ntb=1\n",
      "https://www.bing.com/ck/a?!&&p=6b71eb5a761b2242JmltdHM9MTY2NzQzMzYwMCZpZ3VpZD0yNDAxMGI4OC01OTQ5LTYwNmEtMDY0Mi0xOWQ5NTg5YjYxYWEmaW5zaWQ9NTE0MQ&ptn=3&hsh=3&fclid=24010b88-5949-606a-0642-19d9589b61aa&u=a1aHR0cHM6Ly93d3cuY29kZWNhZGVteS5jb20vYXJ0aWNsZS93aGF0LWlzLXByb2dyYW1taW5n&ntb=1\n",
      "https://www.bing.com/ck/a?!&&p=395ffbcbd6d839a2JmltdHM9MTY2NzQzMzYwMCZpZ3VpZD0yNDAxMGI4OC01OTQ5LTYwNmEtMDY0Mi0xOWQ5NTg5YjYxYWEmaW5zaWQ9NTE1OA&ptn=3&hsh=3&fclid=24010b88-5949-606a-0642-19d9589b61aa&u=a1aHR0cHM6Ly93d3cuamF2YXRwb2ludC5jb20vd2hhdC1pcy1wcm9ncmFtbWluZw&ntb=1\n",
      "https://www.bing.com/ck/a?!&&p=5b2c9d739d546d4dJmltdHM9MTY2NzQzMzYwMCZpZ3VpZD0yNDAxMGI4OC01OTQ5LTYwNmEtMDY0Mi0xOWQ5NTg5YjYxYWEmaW5zaWQ9NTE3Ng&ptn=3&hsh=3&fclid=24010b88-5949-606a-0642-19d9589b61aa&u=a1aHR0cHM6Ly9lbi53aWtpcGVkaWEub3JnL3dpa2kvQ29tcHV0ZXJfcHJvZ3JhbW1pbmc&ntb=1\n",
      "https://www.bing.com/ck/a?!&&p=ad995a46de34fa40JmltdHM9MTY2NzQzMzYwMCZpZ3VpZD0yNDAxMGI4OC01OTQ5LTYwNmEtMDY0Mi0xOWQ5NTg5YjYxYWEmaW5zaWQ9NTE5Mw&ptn=3&hsh=3&fclid=24010b88-5949-606a-0642-19d9589b61aa&u=a1aHR0cHM6Ly93d3cuamF2YXRwb2ludC5jb20vcHJvZ3JhbW1pbmctbGFuZ3VhZ2U&ntb=1\n",
      "https://www.bing.com/ck/a?!&&p=7daefe5a5a490897JmltdHM9MTY2NzQzMzYwMCZpZ3VpZD0yNDAxMGI4OC01OTQ5LTYwNmEtMDY0Mi0xOWQ5NTg5YjYxYWEmaW5zaWQ9NTIwOQ&ptn=3&hsh=3&fclid=24010b88-5949-606a-0642-19d9589b61aa&u=a1aHR0cHM6Ly9wcm9ncmFtbWluZ2h1Yi5pby8&ntb=1\n",
      "https://www.bing.com/ck/a?!&&p=14f132b91b860ddbJmltdHM9MTY2NzQzMzYwMCZpZ3VpZD0yNDAxMGI4OC01OTQ5LTYwNmEtMDY0Mi0xOWQ5NTg5YjYxYWEmaW5zaWQ9NTIyNQ&ptn=3&hsh=3&fclid=24010b88-5949-606a-0642-19d9589b61aa&u=a1aHR0cHM6Ly9sZWFybnByb2dyYW1taW5nLm9ubGluZS8&ntb=1\n",
      "https://www.bing.com/ck/a?!&&p=52949474ae9d9bb8JmltdHM9MTY2NzQzMzYwMCZpZ3VpZD0yNDAxMGI4OC01OTQ5LTYwNmEtMDY0Mi0xOWQ5NTg5YjYxYWEmaW5zaWQ9NTI0Mg&ptn=3&hsh=3&fclid=24010b88-5949-606a-0642-19d9589b61aa&u=a1aHR0cHM6Ly93d3cudHV0b3JpYWxzcG9pbnQuY29tL2NvbXB1dGVyX3Byb2dyYW1taW5nL2luZGV4Lmh0bQ&ntb=1\n",
      "https://www.bing.com/ck/a?!&&p=566c45f209ae3c95JmltdHM9MTY2NzQzMzYwMCZpZ3VpZD0yNDAxMGI4OC01OTQ5LTYwNmEtMDY0Mi0xOWQ5NTg5YjYxYWEmaW5zaWQ9NTI1OQ&ptn=3&hsh=3&fclid=24010b88-5949-606a-0642-19d9589b61aa&u=a1aHR0cHM6Ly93d3cucHJvZ3JhbWl6LmNvbS9jLXByb2dyYW1taW5n&ntb=1\n",
      "https://www.bing.com/ck/a?!&&p=a1703992390d167eJmltdHM9MTY2NzQzMzYwMCZpZ3VpZD0yNDAxMGI4OC01OTQ5LTYwNmEtMDY0Mi0xOWQ5NTg5YjYxYWEmaW5zaWQ9NTI3Ng&ptn=3&hsh=3&fclid=24010b88-5949-606a-0642-19d9589b61aa&u=a1aHR0cHM6Ly93d3cuY3Byb2dyYW1taW5nLmNvbS8&ntb=1\n"
     ]
    },
    {
     "ename": "KeyError",
     "evalue": "'href'",
     "output_type": "error",
     "traceback": [
      "\u001b[1;31m---------------------------------------------------------------------------\u001b[0m",
      "\u001b[1;31mKeyError\u001b[0m                                  Traceback (most recent call last)",
      "Input \u001b[1;32mIn [1]\u001b[0m, in \u001b[0;36m<cell line: 13>\u001b[1;34m()\u001b[0m\n\u001b[0;32m     12\u001b[0m links \u001b[38;5;241m=\u001b[39m soup\u001b[38;5;241m.\u001b[39mfindAll(\u001b[38;5;124m\"\u001b[39m\u001b[38;5;124ma\u001b[39m\u001b[38;5;124m\"\u001b[39m)\n\u001b[0;32m     13\u001b[0m \u001b[38;5;28;01mfor\u001b[39;00m link \u001b[38;5;129;01min\u001b[39;00m links:\n\u001b[1;32m---> 14\u001b[0m     \u001b[38;5;28mprint\u001b[39m(\u001b[43mlink\u001b[49m\u001b[43m[\u001b[49m\u001b[38;5;124;43m\"\u001b[39;49m\u001b[38;5;124;43mhref\u001b[39;49m\u001b[38;5;124;43m\"\u001b[39;49m\u001b[43m]\u001b[49m)\n",
      "File \u001b[1;32m~\\anaconda3\\lib\\site-packages\\bs4\\element.py:1406\u001b[0m, in \u001b[0;36mTag.__getitem__\u001b[1;34m(self, key)\u001b[0m\n\u001b[0;32m   1403\u001b[0m \u001b[38;5;28;01mdef\u001b[39;00m \u001b[38;5;21m__getitem__\u001b[39m(\u001b[38;5;28mself\u001b[39m, key):\n\u001b[0;32m   1404\u001b[0m     \u001b[38;5;124;03m\"\"\"tag[key] returns the value of the 'key' attribute for the Tag,\u001b[39;00m\n\u001b[0;32m   1405\u001b[0m \u001b[38;5;124;03m    and throws an exception if it's not there.\"\"\"\u001b[39;00m\n\u001b[1;32m-> 1406\u001b[0m     \u001b[38;5;28;01mreturn\u001b[39;00m \u001b[38;5;28;43mself\u001b[39;49m\u001b[38;5;241;43m.\u001b[39;49m\u001b[43mattrs\u001b[49m\u001b[43m[\u001b[49m\u001b[43mkey\u001b[49m\u001b[43m]\u001b[49m\n",
      "\u001b[1;31mKeyError\u001b[0m: 'href'"
     ]
    }
   ],
   "source": [
    "from urllib.parse import urlencode, urlunparse\n",
    "from urllib.request import urlopen, Request\n",
    "from bs4 import BeautifulSoup\n",
    "\n",
    "query = \"programming\"\n",
    "url = urlunparse((\"https\", \"www.bing.com\", \"/search\", \"\", urlencode({\"q\": query}), \"\"))\n",
    "custom_user_agent = \"Mozilla/5.0 (Windows NT 6.1; Win64; x64; rv:47.0) Gecko/20100101 Firefox/47.0\"\n",
    "req = Request(url, headers={\"User-Agent\": custom_user_agent})\n",
    "page = urlopen(req)\n",
    "# Further code I've left unmodified\n",
    "soup = BeautifulSoup(page.read())\n",
    "links = soup.findAll(\"a\")\n",
    "for link in links:\n",
    "    print(link[\"href\"])"
   ]
  },
  {
   "cell_type": "code",
   "execution_count": 9,
   "id": "7dc4056d",
   "metadata": {},
   "outputs": [
    {
     "name": "stdout",
     "output_type": "stream",
     "text": [
      "Opening Chrome...\n"
     ]
    },
    {
     "ename": "NoSuchElementException",
     "evalue": "Message: no such element: Unable to locate element: {\"method\":\"css selector\",\"selector\":\"[name=\"p\"]\"}\n  (Session info: chrome=107.0.5304.88)\n",
     "output_type": "error",
     "traceback": [
      "\u001b[1;31m---------------------------------------------------------------------------\u001b[0m",
      "\u001b[1;31mNoSuchElementException\u001b[0m                    Traceback (most recent call last)",
      "Input \u001b[1;32mIn [9]\u001b[0m, in \u001b[0;36m<cell line: 12>\u001b[1;34m()\u001b[0m\n\u001b[0;32m      9\u001b[0m browser\u001b[38;5;241m.\u001b[39mget(\u001b[38;5;124m'\u001b[39m\u001b[38;5;124mhttp://www.bing.com\u001b[39m\u001b[38;5;124m'\u001b[39m)\n\u001b[0;32m     10\u001b[0m \u001b[38;5;66;03m#assert 'bing' in browser.title\u001b[39;00m\n\u001b[1;32m---> 12\u001b[0m elem \u001b[38;5;241m=\u001b[39m \u001b[43mbrowser\u001b[49m\u001b[38;5;241;43m.\u001b[39;49m\u001b[43mfind_element\u001b[49m\u001b[43m(\u001b[49m\u001b[43mBy\u001b[49m\u001b[38;5;241;43m.\u001b[39;49m\u001b[43mNAME\u001b[49m\u001b[43m,\u001b[49m\u001b[43m \u001b[49m\u001b[38;5;124;43m'\u001b[39;49m\u001b[38;5;124;43mp\u001b[39;49m\u001b[38;5;124;43m'\u001b[39;49m\u001b[43m)\u001b[49m  \u001b[38;5;66;03m# Find the search box\u001b[39;00m\n\u001b[0;32m     13\u001b[0m elem\u001b[38;5;241m.\u001b[39msend_keys(\u001b[38;5;124m'\u001b[39m\u001b[38;5;124mseleniumhq\u001b[39m\u001b[38;5;124m'\u001b[39m \u001b[38;5;241m+\u001b[39m Keys\u001b[38;5;241m.\u001b[39mRETURN)\n\u001b[0;32m     15\u001b[0m browser\u001b[38;5;241m.\u001b[39mquit()\n",
      "File \u001b[1;32m~\\anaconda3\\lib\\site-packages\\selenium_pro\\webdriver\\remote\\webdriver.py:979\u001b[0m, in \u001b[0;36mWebDriver.find_element\u001b[1;34m(self, by, value)\u001b[0m\n\u001b[0;32m    977\u001b[0m         by \u001b[38;5;241m=\u001b[39m By\u001b[38;5;241m.\u001b[39mCSS_SELECTOR\n\u001b[0;32m    978\u001b[0m         value \u001b[38;5;241m=\u001b[39m \u001b[38;5;124m'\u001b[39m\u001b[38;5;124m[name=\u001b[39m\u001b[38;5;124m\"\u001b[39m\u001b[38;5;132;01m%s\u001b[39;00m\u001b[38;5;124m\"\u001b[39m\u001b[38;5;124m]\u001b[39m\u001b[38;5;124m'\u001b[39m \u001b[38;5;241m%\u001b[39m value\n\u001b[1;32m--> 979\u001b[0m \u001b[38;5;28;01mreturn\u001b[39;00m \u001b[38;5;28;43mself\u001b[39;49m\u001b[38;5;241;43m.\u001b[39;49m\u001b[43mexecute\u001b[49m\u001b[43m(\u001b[49m\u001b[43mCommand\u001b[49m\u001b[38;5;241;43m.\u001b[39;49m\u001b[43mFIND_ELEMENT\u001b[49m\u001b[43m,\u001b[49m\u001b[43m \u001b[49m\u001b[43m{\u001b[49m\n\u001b[0;32m    980\u001b[0m \u001b[43m    \u001b[49m\u001b[38;5;124;43m'\u001b[39;49m\u001b[38;5;124;43musing\u001b[39;49m\u001b[38;5;124;43m'\u001b[39;49m\u001b[43m:\u001b[49m\u001b[43m \u001b[49m\u001b[43mby\u001b[49m\u001b[43m,\u001b[49m\n\u001b[0;32m    981\u001b[0m \u001b[43m    \u001b[49m\u001b[38;5;124;43m'\u001b[39;49m\u001b[38;5;124;43mvalue\u001b[39;49m\u001b[38;5;124;43m'\u001b[39;49m\u001b[43m:\u001b[49m\u001b[43m \u001b[49m\u001b[43mvalue\u001b[49m\u001b[43m}\u001b[49m\u001b[43m)\u001b[49m[\u001b[38;5;124m'\u001b[39m\u001b[38;5;124mvalue\u001b[39m\u001b[38;5;124m'\u001b[39m]\n",
      "File \u001b[1;32m~\\anaconda3\\lib\\site-packages\\selenium_pro\\webdriver\\remote\\webdriver.py:324\u001b[0m, in \u001b[0;36mWebDriver.execute\u001b[1;34m(self, driver_command, params)\u001b[0m\n\u001b[0;32m    322\u001b[0m response \u001b[38;5;241m=\u001b[39m \u001b[38;5;28mself\u001b[39m\u001b[38;5;241m.\u001b[39mcommand_executor\u001b[38;5;241m.\u001b[39mexecute(driver_command, params)\n\u001b[0;32m    323\u001b[0m \u001b[38;5;28;01mif\u001b[39;00m response:\n\u001b[1;32m--> 324\u001b[0m     \u001b[38;5;28;43mself\u001b[39;49m\u001b[38;5;241;43m.\u001b[39;49m\u001b[43merror_handler\u001b[49m\u001b[38;5;241;43m.\u001b[39;49m\u001b[43mcheck_response\u001b[49m\u001b[43m(\u001b[49m\u001b[43mresponse\u001b[49m\u001b[43m)\u001b[49m\n\u001b[0;32m    325\u001b[0m     response[\u001b[38;5;124m'\u001b[39m\u001b[38;5;124mvalue\u001b[39m\u001b[38;5;124m'\u001b[39m] \u001b[38;5;241m=\u001b[39m \u001b[38;5;28mself\u001b[39m\u001b[38;5;241m.\u001b[39m_unwrap_value(\n\u001b[0;32m    326\u001b[0m         response\u001b[38;5;241m.\u001b[39mget(\u001b[38;5;124m'\u001b[39m\u001b[38;5;124mvalue\u001b[39m\u001b[38;5;124m'\u001b[39m, \u001b[38;5;28;01mNone\u001b[39;00m))\n\u001b[0;32m    327\u001b[0m     \u001b[38;5;28;01mreturn\u001b[39;00m response\n",
      "File \u001b[1;32m~\\anaconda3\\lib\\site-packages\\selenium_pro\\webdriver\\remote\\errorhandler.py:242\u001b[0m, in \u001b[0;36mErrorHandler.check_response\u001b[1;34m(self, response)\u001b[0m\n\u001b[0;32m    240\u001b[0m         alert_text \u001b[38;5;241m=\u001b[39m value[\u001b[38;5;124m'\u001b[39m\u001b[38;5;124malert\u001b[39m\u001b[38;5;124m'\u001b[39m]\u001b[38;5;241m.\u001b[39mget(\u001b[38;5;124m'\u001b[39m\u001b[38;5;124mtext\u001b[39m\u001b[38;5;124m'\u001b[39m)\n\u001b[0;32m    241\u001b[0m     \u001b[38;5;28;01mraise\u001b[39;00m exception_class(message, screen, stacktrace, alert_text)\n\u001b[1;32m--> 242\u001b[0m \u001b[38;5;28;01mraise\u001b[39;00m exception_class(message, screen, stacktrace)\n",
      "\u001b[1;31mNoSuchElementException\u001b[0m: Message: no such element: Unable to locate element: {\"method\":\"css selector\",\"selector\":\"[name=\"p\"]\"}\n  (Session info: chrome=107.0.5304.88)\n"
     ]
    }
   ],
   "source": [
    "#from selenium import webdriver\n",
    "#from selenium.webdriver.common.by import By\n",
    "#from selenium.webdriver.common.keys import Keys\n",
    "from selenium_pro import webdriver\n",
    "import time\n",
    "from selenium_pro.webdriver.common.keys import Keys\n",
    "#browser = webdriver.Firefox(executable_path='users/Adeleh/desktop/Projects/geckodriver.exe')\n",
    "browser = webdriver.Start()\n",
    "browser.get('http://www.bing.com')\n",
    "#assert 'bing' in browser.title\n",
    "\n",
    "elem = browser.find_element(By.NAME, 'p')  # Find the search box\n",
    "elem.send_keys('seleniumhq' + Keys.RETURN)\n",
    "\n",
    "browser.quit()"
   ]
  },
  {
   "cell_type": "code",
   "execution_count": 3,
   "id": "2bddc572",
   "metadata": {},
   "outputs": [
    {
     "ename": "TypeError",
     "evalue": "'module' object is not callable",
     "output_type": "error",
     "traceback": [
      "\u001b[1;31m---------------------------------------------------------------------------\u001b[0m",
      "\u001b[1;31mTypeError\u001b[0m                                 Traceback (most recent call last)",
      "Input \u001b[1;32mIn [3]\u001b[0m, in \u001b[0;36m<cell line: 3>\u001b[1;34m()\u001b[0m\n\u001b[0;32m      1\u001b[0m \u001b[38;5;28;01mimport\u001b[39;00m \u001b[38;5;21;01mgoogle\u001b[39;00m\n\u001b[0;32m      2\u001b[0m \u001b[38;5;66;03m#import beautifulsoup4\u001b[39;00m\n\u001b[1;32m----> 3\u001b[0m \u001b[43mgoogle\u001b[49m\u001b[43m(\u001b[49m\u001b[38;5;124;43m\"\u001b[39;49m\u001b[38;5;124;43mcolleges in vellore\u001b[39;49m\u001b[38;5;124;43m\"\u001b[39;49m\u001b[43m,\u001b[49m\u001b[43mnum\u001b[49m\u001b[38;5;241;43m=\u001b[39;49m\u001b[38;5;241;43m50\u001b[39;49m\u001b[43m)\u001b[49m\n",
      "\u001b[1;31mTypeError\u001b[0m: 'module' object is not callable"
     ]
    }
   ],
   "source": [
    "import google\n",
    "#import beautifulsoup4\n",
    "google(\"colleges in vellore\",num=50)"
   ]
  },
  {
   "cell_type": "code",
   "execution_count": null,
   "id": "d0c94060",
   "metadata": {},
   "outputs": [],
   "source": []
  },
  {
   "cell_type": "code",
   "execution_count": 5,
   "id": "8a87079e",
   "metadata": {},
   "outputs": [
    {
     "name": "stdout",
     "output_type": "stream",
     "text": [
      "Collecting selenium_pro\n",
      "  Downloading selenium_pro-1.4.3.tar.gz (832 kB)\n",
      "Requirement already satisfied: requests in c:\\users\\dell\\anaconda3\\lib\\site-packages (from selenium_pro) (2.25.1)\n",
      "Requirement already satisfied: beautifulsoup4 in c:\\users\\dell\\anaconda3\\lib\\site-packages (from selenium_pro) (4.9.3)\n",
      "Requirement already satisfied: webdriver-manager in c:\\users\\dell\\anaconda3\\lib\\site-packages (from selenium_pro) (3.8.4)\n",
      "Requirement already satisfied: soupsieve>1.2 in c:\\users\\dell\\anaconda3\\lib\\site-packages (from beautifulsoup4->selenium_pro) (2.3.1)\n",
      "Requirement already satisfied: idna<3,>=2.5 in c:\\users\\dell\\anaconda3\\lib\\site-packages (from requests->selenium_pro) (2.10)\n",
      "Requirement already satisfied: certifi>=2017.4.17 in c:\\users\\dell\\anaconda3\\lib\\site-packages (from requests->selenium_pro) (2022.6.15)\n",
      "Requirement already satisfied: urllib3<1.27,>=1.21.1 in c:\\users\\dell\\anaconda3\\lib\\site-packages (from requests->selenium_pro) (1.26.9)\n",
      "Requirement already satisfied: chardet<5,>=3.0.2 in c:\\users\\dell\\anaconda3\\lib\\site-packages (from requests->selenium_pro) (3.0.4)\n",
      "Requirement already satisfied: tqdm in c:\\users\\dell\\anaconda3\\lib\\site-packages (from webdriver-manager->selenium_pro) (4.64.0)\n",
      "Requirement already satisfied: python-dotenv in c:\\users\\dell\\anaconda3\\lib\\site-packages (from webdriver-manager->selenium_pro) (0.21.0)\n",
      "Requirement already satisfied: colorama in c:\\users\\dell\\anaconda3\\lib\\site-packages (from tqdm->webdriver-manager->selenium_pro) (0.4.4)\n",
      "Building wheels for collected packages: selenium-pro\n",
      "  Building wheel for selenium-pro (setup.py): started\n",
      "  Building wheel for selenium-pro (setup.py): finished with status 'done'\n",
      "  Created wheel for selenium-pro: filename=selenium_pro-1.4.3-py3-none-any.whl size=900628 sha256=417731100c5b88e61300e29a4ec8dd28e39a7cbcd21296847eba410aa928164d\n",
      "  Stored in directory: c:\\users\\dell\\appdata\\local\\pip\\cache\\wheels\\b3\\a7\\90\\8f1ce35ebd44885a25adafb9fc41dd43b0eb7d0fd954e91a26\n",
      "Successfully built selenium-pro\n",
      "Installing collected packages: selenium-pro\n",
      "Successfully installed selenium-pro-1.4.3\n",
      "Note: you may need to restart the kernel to use updated packages.\n"
     ]
    }
   ],
   "source": [
    "pip install selenium_pro\n"
   ]
  },
  {
   "cell_type": "code",
   "execution_count": null,
   "id": "1287aa52",
   "metadata": {},
   "outputs": [],
   "source": []
  },
  {
   "cell_type": "code",
   "execution_count": 2,
   "id": "50c098a0",
   "metadata": {},
   "outputs": [
    {
     "name": "stdout",
     "output_type": "stream",
     "text": [
      "Opening Chrome...\n",
      "Top 50 IT Companies In Bangalore - List Of IT Companies …\n",
      "https://www.techasoft.com/post/top-50-it-companies-in-bangalore\n",
      "Top 24 IT Companies in Bangalore - InterviewBit\n",
      "https://www.bing.com/search?q=IT+companies+in+bangalore&form=QBLH&sp=-1&pq=&sc=0-0&qs=n&sk=&cvid=C000EB12E1F340168DC5250F53CD0E60&ghsh=0&ghacc=0&ghpl=#\n",
      "Top 50 IT Companies In Bangalore - List Of IT Companies … https://www.bing.com/search?q=IT+companies+in+bangalore&form=QBLH&sp=-1&pq=&sc=0-0&qs=n&sk=&cvid=C000EB12E1F340168DC5250F53CD0E60&ghsh=0&ghacc=0&ghpl=#\n",
      "Top 50 IT Companies In Bangalore - List Of IT Companies … https://www.bing.com/search?q=IT+companies+in+bangalore&form=QBLH&sp=-1&pq=&sc=0-0&qs=n&sk=&cvid=C000EB12E1F340168DC5250F53CD0E60&ghsh=0&ghacc=0&ghpl=#\n",
      "Top 24 IT Companies in Bangalore - InterviewBit https://www.bing.com/search?q=IT+companies+in+bangalore&form=QBLH&sp=-1&pq=&sc=0-0&qs=n&sk=&cvid=C000EB12E1F340168DC5250F53CD0E60&ghsh=0&ghacc=0&ghpl=#\n",
      "Top 50 IT Companies In Bangalore - List Of IT Companies … https://www.bing.com/search?q=IT+companies+in+bangalore&form=QBLH&sp=-1&pq=&sc=0-0&qs=n&sk=&cvid=C000EB12E1F340168DC5250F53CD0E60&ghsh=0&ghacc=0&ghpl=#\n",
      "Top 24 IT Companies in Bangalore - InterviewBit https://www.bing.com/search?q=IT+companies+in+bangalore&form=QBLH&sp=-1&pq=&sc=0-0&qs=n&sk=&cvid=C000EB12E1F340168DC5250F53CD0E60&ghsh=0&ghacc=0&ghpl=#\n",
      "IT office in Bangalore: Top 10 IT companies in Bangalore https://housing.com/news/top-10-it-companies-in-bangalore/\n",
      "IT office in Bangalore: Top 10 IT companies in Bangalore https://housing.com/news/top-10-it-companies-in-bangalore/\n",
      "IT Companies In Bangalore https://thedigitalskipper.com/it-companies-in-bangalore/\n",
      "Top IT Companies in Bangalore - WebHopers Infotech Blog https://blog.webhopers.com/top-it-companies-in-bangalore\n",
      "List of Software Companies in Bangalore - Naukri2000 https://www.naukri2000.com/careers/it_bangalore.php\n",
      "Top IT Companies in Whitefield | Bangalore - Saroj Group https://sarojgroup.in/top-it-companies-in-whitefield/\n",
      "BANGALORE https://www.companydetails.in/company/bangalore-it-solutions-pvt-ltd\n",
      "IT companies in Bengaluru asked to extend WFH till December … https://www.dnaindia.com/india/report-it-companies-in-bengaluru-asked-to-extend-work-from-home-till-december-2022-here-why-bangalore-karnataka-government-metro-construction-work-2907687\n",
      "Exhaustive List of Top 91 Startups In Bangalore [2022 List] https://www.codingninjas.com/blog/2021/09/10/it-companies-in-bangalore-vs-hyderabad-now-and-the-future/\n"
     ]
    }
   ],
   "source": [
    "from selenium_pro import webdriver\n",
    "driver = webdriver.Start()\n",
    "# to open new tab\n",
    "driver.execute_script(\"window.open();\")\n",
    "\n",
    "# to open the url in browser\n",
    "driver.get('https://www.bing.com/')\n",
    "\n",
    "# to type content in input field\n",
    "driver.find_element_by_pro('YCKHMhGb7HdCEIJ').type('IT companies in bangalore')\n",
    "\n",
    "# press ArrowDown key\n",
    "driver.switch_to.active_element.type('ArrowDown')\n",
    "\n",
    "# press Enter key\n",
    "driver.switch_to.active_element.type('Enter')\n",
    "\n",
    "# to fetch the text of element\n",
    "text=driver.find_element_by_pro('ne78zmsdvCM8mSy').text\n",
    "print(text)\n",
    "# to fetch the link of element\n",
    "link=driver.find_element_by_pro('HwqESo8kl1uwnXe').get_attribute('href')\n",
    "print(link)\n",
    "# to fetch the text of element\n",
    "text=driver.find_element_by_pro('2Wo5CifL445PWT5').text\n",
    "\n",
    "# to fetch the link of element\n",
    "link=driver.find_element_by_pro('M7a5FuIJvBhyn7r').get_attribute('href')\n",
    "print(text)\n",
    "print(link)\n",
    "# to fetch the text of element\n",
    "text=driver.find_element_by_pro('wglcgCg08oNNg0A').text\n",
    "\n",
    "# to fetch the link of element\n",
    "link=driver.find_element_by_pro('G5jjfn05bmVtwCb').get_attribute('href')\n",
    "print(text,link)\n",
    "# to fetch the text of element\n",
    "text=driver.find_element_by_pro('kkDsAculEmqgg0T').text\n",
    "\n",
    "# to fetch the link of element\n",
    "link=driver.find_element_by_pro('ohcqRdLIc5KTL3l').get_attribute('href')\n",
    "print(text,link)\n",
    "# to fetch the text of element\n",
    "text=driver.find_element_by_pro('oQO6KkJEUrfQtJa').text\n",
    "\n",
    "# to fetch the link of element\n",
    "link=driver.find_element_by_pro('L2cd3fIRMvhdEci').get_attribute('href')\n",
    "print(text,link)\n",
    "# to fetch the text of element\n",
    "text=driver.find_element_by_pro('SG_7h8MHnnfZ6lr').text\n",
    "\n",
    "# to fetch the link of element\n",
    "link=driver.find_element_by_pro('ovmKCGLNsNiiTq0').get_attribute('href')\n",
    "print(text,link)\n",
    "# to fetch the text of element\n",
    "text=driver.find_element_by_pro('ONCm16hvBK3RyJ7').text\n",
    "\n",
    "# to fetch the link of element\n",
    "link=driver.find_element_by_pro('oFdtyXs3fs3WubV').get_attribute('href')\n",
    "print(text,link)\n",
    "# to click on the element(2) found\n",
    "driver.find_element_by_pro('1DHUfySpYhv9iRQ').click_pro()\n",
    "\n",
    "# to fetch the text of element\n",
    "text=driver.find_element_by_pro('4aKiNwP2arp93hm').text\n",
    "\n",
    "# to fetch the link of element\n",
    "link=driver.find_element_by_pro('LIfD0nxWykVO__E').get_attribute('href')\n",
    "print(text,link)\n",
    "# to fetch the text of element\n",
    "text=driver.find_element_by_pro('BFRk94wUhhHi22_').text\n",
    "\n",
    "# to fetch the link of element\n",
    "link=driver.find_element_by_pro('LQ3mWFVyySmsV9U').get_attribute('href')\n",
    "print(text,link)\n",
    "# to fetch the text of element\n",
    "text=driver.find_element_by_pro('Hq3GaMwFase0qPm').text\n",
    "\n",
    "# to fetch the link of element\n",
    "link=driver.find_element_by_pro('xXH1NqztWD9gLYA').get_attribute('href')\n",
    "print(text,link)\n",
    "# to fetch the text of element\n",
    "text=driver.find_element_by_pro('tWIozDc0CUzZtlC').text\n",
    "\n",
    "# to click on the element(Top Engineering Coll...) found\n",
    "driver.find_element_by_pro('5sftesTlhitZDz_').click_pro()\n",
    "\n",
    "# to fetch the link of element\n",
    "link=driver.find_element_by_pro('nHCUgrJjlJSrzFM').get_attribute('href')\n",
    "print(text,link)\n",
    "# to fetch the text of element\n",
    "text=driver.find_element_by_pro('gMsjUX0l1eDLCay').text\n",
    "\n",
    "# to click on the element(Engineering College ...) found\n",
    "driver.find_element_by_pro('CLCRmQmCsIC1pRg').click_pro()\n",
    "\n",
    "# to fetch the link of element\n",
    "link=driver.find_element_by_pro('nUTjDnMJk5Ar9IX').get_attribute('href')\n",
    "print(text,link)\n",
    "# to fetch the text of element\n",
    "text=driver.find_element_by_pro('InlwFGzqjJ9GDvY').text\n",
    "\n",
    "# to fetch the link of element\n",
    "link=driver.find_element_by_pro('J35iCOJa2PWIsNC').get_attribute('href')\n",
    "print(text,link)\n",
    "# to fetch the text of element\n",
    "text=driver.find_element_by_pro('yHd7cnLiOoHtEhZ').text\n",
    "\n",
    "# to fetch the link of element\n",
    "link=driver.find_element_by_pro('d_RBnB4Fyphx4i6').get_attribute('href')\n",
    "print(text,link)\n",
    "# to fetch the text of element\n",
    "text=driver.find_element_by_pro('a8F8fF1faQKTl2U').text\n",
    "\n",
    "# to fetch the link of element\n",
    "link=driver.find_element_by_pro('77Tn2sNlzzCRkSe').get_attribute('href')\n",
    "print(text,link)\n",
    "# to fetch the text of element\n",
    "text=driver.find_element_by_pro('Tt7CgZak6OKgDFv').text\n",
    "\n",
    "# to fetch the link of element\n",
    "link=driver.find_element_by_pro('iQChArkzXKm0Cqc').get_attribute('href')\n",
    "print(text,link)\n"
   ]
  },
  {
   "cell_type": "code",
   "execution_count": 7,
   "id": "fb62bf78",
   "metadata": {},
   "outputs": [
    {
     "name": "stdout",
     "output_type": "stream",
     "text": [
      "Colle System: A Simple, Strong Opening Choice - Chessable Blog https://www.chessable.com/blog/colle-system/\n"
     ]
    }
   ],
   "source": [
    "text=driver.find_element_by_pro('a8F8fF1faQKTl2U').text\n",
    "\n",
    "# to fetch the link of element\n",
    "link=driver.find_element_by_pro('77Tn2sNlzzCRkSe').get_attribute('href')\n",
    "print(text,link)"
   ]
  },
  {
   "cell_type": "code",
   "execution_count": 6,
   "id": "7877095b",
   "metadata": {},
   "outputs": [
    {
     "name": "stdout",
     "output_type": "stream",
     "text": [
      "Collé: Beginner Exercise - YouTube\n",
      "https://www.thefreedictionary.com/colleague\n"
     ]
    }
   ],
   "source": [
    "print(text)\n",
    "print(link)"
   ]
  },
  {
   "cell_type": "code",
   "execution_count": null,
   "id": "71224bb7",
   "metadata": {},
   "outputs": [],
   "source": []
  },
  {
   "cell_type": "code",
   "execution_count": 3,
   "id": "7dd54f24",
   "metadata": {},
   "outputs": [
    {
     "name": "stdout",
     "output_type": "stream",
     "text": [
      "Opening Chrome...\n"
     ]
    }
   ],
   "source": [
    "from selenium_pro import webdriver\n",
    "driver = webdriver.Start()\n",
    "# to open new tab\n",
    "driver.execute_script(\"window.open();\")\n",
    "\n",
    "# to open the url in browser\n",
    "driver.get('https://www.ask.com/')\n",
    "\n",
    "# to click on input field\n",
    "driver.find_element_by_pro('63x0DWgWjuKKHJQ').click_pro()\n",
    "\n",
    "# to type content in input field\n",
    "driver.find_element_by_pro('zER7r6otaTetgFD').type('IT companies in Bangalore')\n",
    "\n",
    "# press Enter key\n",
    "driver.switch_to.active_element.type('Enter')\n",
    "\n",
    "# to fetch the text of element\n",
    "text=driver.find_element_by_pro('tBeI2lCt70SjFzE').text\n",
    "\n",
    "# to fetch the link of element\n",
    "link=driver.find_element_by_pro('gAAhMFMV4XjdrZb').get_attribute('href')\n",
    "\n",
    "# to fetch the text of element\n",
    "text=driver.find_element_by_pro('tK9LZtywOGxGqSp').text\n",
    "\n",
    "# to fetch the link of element\n",
    "link=driver.find_element_by_pro('AOvUeMQv_x4HihU').get_attribute('href')\n",
    "\n"
   ]
  },
  {
   "cell_type": "code",
   "execution_count": 4,
   "id": "d8d5e6aa",
   "metadata": {},
   "outputs": [
    {
     "name": "stdout",
     "output_type": "stream",
     "text": [
      "Companies That Make Online Shopping Easy https://www.ask.com/culture/companies-that-make-online-shopping-easy?utm_content=params%3Ao%3D740004%26ad%3DdirN%26qo%3DserpIndex&ueid=56b3d048-ffd7-404c-ba8f-110c0cd22263\n"
     ]
    }
   ],
   "source": [
    "print(text,link)"
   ]
  },
  {
   "cell_type": "code",
   "execution_count": null,
   "id": "e43b02ce",
   "metadata": {},
   "outputs": [],
   "source": []
  },
  {
   "cell_type": "code",
   "execution_count": null,
   "id": "ff5962c9",
   "metadata": {},
   "outputs": [],
   "source": [
    "IT companies in gurgaon\n",
    "colleges in delhi\n",
    "IT companies in bengaluru\n",
    "universities in USA\n",
    "colleges in vellore"
   ]
  },
  {
   "cell_type": "code",
   "execution_count": null,
   "id": "f7f4531d",
   "metadata": {},
   "outputs": [],
   "source": [
    "which search engine is effective\n",
    "how many are third party websites\n",
    "whether location parameter is playing a role\n",
    "capitalize of words may vary\n",
    "try using double quotes\n",
    "alta vista comparison with google"
   ]
  },
  {
   "cell_type": "code",
   "execution_count": null,
   "id": "a2599d6f",
   "metadata": {},
   "outputs": [],
   "source": []
  }
 ],
 "metadata": {
  "kernelspec": {
   "display_name": "Python 3 (ipykernel)",
   "language": "python",
   "name": "python3"
  },
  "language_info": {
   "codemirror_mode": {
    "name": "ipython",
    "version": 3
   },
   "file_extension": ".py",
   "mimetype": "text/x-python",
   "name": "python",
   "nbconvert_exporter": "python",
   "pygments_lexer": "ipython3",
   "version": "3.8.13"
  }
 },
 "nbformat": 4,
 "nbformat_minor": 5
}
